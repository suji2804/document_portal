{
 "cells": [
  {
   "cell_type": "code",
   "execution_count": 1,
   "id": "af29cdef",
   "metadata": {},
   "outputs": [
    {
     "name": "stdout",
     "output_type": "stream",
     "text": [
      "all ok\n"
     ]
    }
   ],
   "source": [
    "print(\"all ok\")"
   ]
  },
  {
   "cell_type": "code",
   "execution_count": 2,
   "id": "3951ffa8",
   "metadata": {},
   "outputs": [],
   "source": [
    "### __file__ in .py file automatically gets the name of the file"
   ]
  },
  {
   "cell_type": "code",
   "execution_count": 3,
   "id": "dd965647",
   "metadata": {},
   "outputs": [],
   "source": [
    "from logger.custom_logger import CustomLogger"
   ]
  },
  {
   "cell_type": "code",
   "execution_count": 4,
   "id": "b6c866fb",
   "metadata": {},
   "outputs": [],
   "source": [
    "logger=CustomLogger().get_logger(\"exception_experiment\")"
   ]
  },
  {
   "cell_type": "code",
   "execution_count": 6,
   "id": "312d87ea",
   "metadata": {},
   "outputs": [
    {
     "ename": "DocumentPortalException",
     "evalue": "\n        Error in [C:\\Users\\a718403\\AppData\\Local\\Temp\\ipykernel_16068\\11436085.py] at line [22]\n        Message: division by zero\n        Traceback:\n        Traceback (most recent call last):\n  File \"C:\\Users\\a718403\\AppData\\Local\\Temp\\ipykernel_16068\\11436085.py\", line 22, in <module>\n    a = 1 / 0\n        ~~^~~\nZeroDivisionError: division by zero\n\n        ",
     "output_type": "error",
     "traceback": [
      "\u001b[31m---------------------------------------------------------------------------\u001b[39m",
      "\u001b[31mZeroDivisionError\u001b[39m                         Traceback (most recent call last)",
      "\u001b[36mCell\u001b[39m\u001b[36m \u001b[39m\u001b[32mIn[6]\u001b[39m\u001b[32m, line 22\u001b[39m\n\u001b[32m     20\u001b[39m \u001b[38;5;28;01mtry\u001b[39;00m:\n\u001b[32m     21\u001b[39m     \u001b[38;5;66;03m# Simulate an error\u001b[39;00m\n\u001b[32m---> \u001b[39m\u001b[32m22\u001b[39m     a = \u001b[32;43m1\u001b[39;49m\u001b[43m \u001b[49m\u001b[43m/\u001b[49m\u001b[43m \u001b[49m\u001b[32;43m0\u001b[39;49m\n\u001b[32m     23\u001b[39m     \u001b[38;5;28mprint\u001b[39m(a)\n",
      "\u001b[31mZeroDivisionError\u001b[39m: division by zero",
      "\nDuring handling of the above exception, another exception occurred:\n",
      "\u001b[31mDocumentPortalException\u001b[39m                   Traceback (most recent call last)",
      "\u001b[36mCell\u001b[39m\u001b[36m \u001b[39m\u001b[32mIn[6]\u001b[39m\u001b[32m, line 27\u001b[39m\n\u001b[32m     25\u001b[39m app_exc=DocumentPortalException(e,sys)\n\u001b[32m     26\u001b[39m logger.error(app_exc)\n\u001b[32m---> \u001b[39m\u001b[32m27\u001b[39m \u001b[38;5;28;01mraise\u001b[39;00m app_exc\n",
      "\u001b[31mDocumentPortalException\u001b[39m: \n        Error in [C:\\Users\\a718403\\AppData\\Local\\Temp\\ipykernel_16068\\11436085.py] at line [22]\n        Message: division by zero\n        Traceback:\n        Traceback (most recent call last):\n  File \"C:\\Users\\a718403\\AppData\\Local\\Temp\\ipykernel_16068\\11436085.py\", line 22, in <module>\n    a = 1 / 0\n        ~~^~~\nZeroDivisionError: division by zero\n\n        "
     ]
    }
   ],
   "source": [
    "import sys\n",
    "import traceback\n",
    "class DocumentPortalException(Exception):\n",
    "    \"\"\"Custom exception for Document Portal\"\"\"\n",
    "    def __init__(self,error_message,error_details:sys):\n",
    "        _,_,exc_tb=error_details.exc_info()\n",
    "        self.file_name=exc_tb.tb_frame.f_code.co_filename\n",
    "        self.lineno=exc_tb.tb_lineno\n",
    "        self.error_message=str(error_message)\n",
    "        self.traceback_str = ''.join(traceback.format_exception(*error_details.exc_info())) \n",
    "    def __str__(self):\n",
    "       return f\"\"\"\n",
    "        Error in [{self.file_name}] at line [{self.lineno}]\n",
    "        Message: {self.error_message}\n",
    "        Traceback:\n",
    "        {self.traceback_str}\n",
    "        \"\"\"\n",
    "    \n",
    "if __name__ == \"__main__\":\n",
    "    try:\n",
    "        # Simulate an error\n",
    "        a = 1 / 0\n",
    "        print(a)\n",
    "    except Exception as e:\n",
    "        app_exc=DocumentPortalException(e,sys)\n",
    "        logger.error(app_exc)\n",
    "        raise app_exc"
   ]
  },
  {
   "cell_type": "code",
   "execution_count": null,
   "id": "14522cf0",
   "metadata": {},
   "outputs": [],
   "source": [
    "1. log this error(file, cloud config, command prompt) (it will keep the record of the error and will not stop the execution of the code)\n",
    "2. raise the exception(it will stop the execution of the code)"
   ]
  }
 ],
 "metadata": {
  "kernelspec": {
   "display_name": "venv_suji",
   "language": "python",
   "name": "python3"
  },
  "language_info": {
   "codemirror_mode": {
    "name": "ipython",
    "version": 3
   },
   "file_extension": ".py",
   "mimetype": "text/x-python",
   "name": "python",
   "nbconvert_exporter": "python",
   "pygments_lexer": "ipython3",
   "version": "3.12.0"
  }
 },
 "nbformat": 4,
 "nbformat_minor": 5
}
